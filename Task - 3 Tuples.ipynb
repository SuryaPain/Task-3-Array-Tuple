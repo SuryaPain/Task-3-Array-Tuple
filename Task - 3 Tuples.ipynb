{
 "cells": [
  {
   "cell_type": "code",
   "execution_count": 4,
   "metadata": {},
   "outputs": [
    {
     "name": "stdout",
     "output_type": "stream",
     "text": [
      "Even numbers [10, 22, 100]\n",
      "Odd numbers [501, 37, 999, 87, 351]\n"
     ]
    }
   ],
   "source": [
    "a=[10,501,22,37,100,999,87,351] #1\n",
    "Even=[]\n",
    "Odd=[]\n",
    "for i in a:\n",
    "    if(i%2==0):\n",
    "        Even.append(i)\n",
    "    else:\n",
    "        Odd.append(i)\n",
    "print(\"Even numbers\",Even)\n",
    "print(\"Odd numbers\",Odd)"
   ]
  },
  {
   "cell_type": "code",
   "execution_count": 1,
   "metadata": {},
   "outputs": [
    {
     "name": "stdout",
     "output_type": "stream",
     "text": [
      "Number of happy numbers in the list: 2\n"
     ]
    }
   ],
   "source": [
    "numbers = [10, 501, 22, 37, 100, 999, 87, 351] #3\n",
    "def is_happy(n):\n",
    "    seen = set()\n",
    "    while n != 1 and n not in seen:\n",
    "        seen.add(n)\n",
    "        n = sum(int(digit)**2 for digit in str(n))\n",
    "    return n == 1\n",
    "happy_count = sum(1 for num in numbers if is_happy(num))\n",
    "\n",
    "print(\"Number of happy numbers in the list:\", happy_count)"
   ]
  },
  {
   "cell_type": "code",
   "execution_count": 25,
   "metadata": {},
   "outputs": [
    {
     "name": "stdout",
     "output_type": "stream",
     "text": [
      "9\n"
     ]
    }
   ],
   "source": [
    "number = 12474568 #4\n",
    " \n",
    "number = str(number)\n",
    " \n",
    "first_digit = int(number[0])\n",
    "last_digit = int(number[-1])\n",
    "\n",
    "addition = first_digit + last_digit\n",
    " \n",
    "print(addition)"
   ]
  },
  {
   "cell_type": "code",
   "execution_count": 37,
   "metadata": {},
   "outputs": [
    {
     "name": "stdout",
     "output_type": "stream",
     "text": [
      "[1, 'one']\n"
     ]
    }
   ],
   "source": [
    "glist=[1, 2, 3, \"one\", 5, 6, 1, \"one\"] #6\n",
    "x=set(glist)\n",
    "dup=[]\n",
    "for c in x:\n",
    "    if(glist.count(c)>1):\n",
    "        dup.append(c)\n",
    "print(dup)"
   ]
  },
  {
   "cell_type": "code",
   "execution_count": 3,
   "metadata": {},
   "outputs": [
    {
     "name": "stdout",
     "output_type": "stream",
     "text": [
      "The number of prime numbers in the list is: 1\n"
     ]
    }
   ],
   "source": [
    "\n",
    "a = [10,501,22,37,100,999,87,351] #2\n",
    "def is_prime(num):\n",
    "    if num < 2:\n",
    "        return False\n",
    "    for i in range(2, int(num**0.5) + 1):\n",
    "        if num % i == 0:\n",
    "            return False\n",
    "    return True\n",
    "\n",
    "def count_primes_in_list(lst):\n",
    "    count = 0\n",
    "    for num in lst:\n",
    "        if is_prime(num):\n",
    "            count += 1\n",
    "    return count\n",
    "print(\"The number of prime numbers in the list is:\", count_primes_in_list(a))"
   ]
  },
  {
   "cell_type": "code",
   "execution_count": 2,
   "metadata": {},
   "outputs": [
    {
     "name": "stdout",
     "output_type": "stream",
     "text": [
      "Bags to distribute to students: [2, 3, 4]\n"
     ]
    }
   ],
   "source": [
    "bags = [7, 3, 2, 12, 4, 8, 10] #5\n",
    "students = 3\n",
    "def distribute_mangoes(bags, students):\n",
    "    bags.sort()  \n",
    "    min_diff = float('inf')\n",
    "    for i in range(len(bags) - students + 1):\n",
    "        diff = bags[i + students - 1] - bags[i]\n",
    "        if diff < min_diff:\n",
    "            min_diff = diff\n",
    "\n",
    "    bags_to_distribute = []\n",
    "    for i in range(len(bags) - students + 1):\n",
    "        diff = bags[i + students - 1] - bags[i]\n",
    "        if diff == min_diff:\n",
    "            bags_to_distribute = bags[i:i + students]\n",
    "            break\n",
    "    return bags_to_distribute\n",
    "distributed_bags = distribute_mangoes(bags, students)\n",
    "print(\"Bags to distribute to students:\", distributed_bags)"
   ]
  },
  {
   "cell_type": "code",
   "execution_count": 6,
   "metadata": {},
   "outputs": [
    {
     "name": "stdout",
     "output_type": "stream",
     "text": [
      "First non-repeating element: 8\n"
     ]
    }
   ],
   "source": [
    "a = [1, 6, 3, 6, 7, 1, 3, 7, 8] #7\n",
    "def first_non_repeating_element(nums):\n",
    "    count_map = {}\n",
    "    for a in nums:\n",
    "        if a in count_map:\n",
    "            count_map[a] += 1\n",
    "        else:\n",
    "            count_map[a] = 1\n",
    "    \n",
    "    for num in nums:\n",
    "        if count_map[a] == 1:\n",
    "            return a\n",
    "    return None\n",
    "result = first_non_repeating_element(a)\n",
    "print(\"First non-repeating element:\", result)"
   ]
  },
  {
   "cell_type": "code",
   "execution_count": 15,
   "metadata": {},
   "outputs": [
    {
     "name": "stdout",
     "output_type": "stream",
     "text": [
      "Minimum element in the rated and sorted list: 19\n"
     ]
    }
   ],
   "source": [
    "rated_sorted_list = [19, 24, 45, 49, 57] #8\n",
    "def find_minimum_rated_sorted(arr):\n",
    "    if not arr:\n",
    "        return None\n",
    "    else:\n",
    "        return arr[0]\n",
    "min_element = find_minimum_rated_sorted(rated_sorted_list)\n",
    "print(\"Minimum element in the rated and sorted list:\", min_element)"
   ]
  },
  {
   "cell_type": "code",
   "execution_count": 13,
   "metadata": {},
   "outputs": [
    {
     "name": "stdout",
     "output_type": "stream",
     "text": [
      "Triplet with sum 59 : (20, 30, 9)\n"
     ]
    }
   ],
   "source": [
    "arr = [10, 20, 30, 9] #9\n",
    "target = 59\n",
    "def find_triplet_with_sum(arr, target): \n",
    "    n = len(arr)\n",
    "    for i in range(n - 2):\n",
    "        for j in range(i + 1, n - 1):\n",
    "            for k in range(j + 1, n):\n",
    "                if arr[i] + arr[j] + arr[k] == target:\n",
    "                    return arr[i], arr[j], arr[k]\n",
    "triplet = find_triplet_with_sum(arr, target)\n",
    "if triplet:\n",
    "    print(\"Triplet with sum\", target, \":\", triplet)\n",
    "else:\n",
    "    print(\"No triplet found with sum\", target)"
   ]
  },
  {
   "cell_type": "code",
   "execution_count": 14,
   "metadata": {},
   "outputs": [
    {
     "name": "stdout",
     "output_type": "stream",
     "text": [
      "Yes, there is a sub-list with sum equal to zero.\n"
     ]
    }
   ],
   "source": [
    "r = [4, 2, -3, 1, 6] #10\n",
    "def has_zero_sum_sublist(r):\n",
    "    seen_sums = set()\n",
    "    running_sum = 0\n",
    "    \n",
    "    for num in r:\n",
    "        running_sum += num\n",
    "        if running_sum == 0 or running_sum in seen_sums:\n",
    "            return True\n",
    "        seen_sums.add(running_sum)\n",
    "    return False\n",
    "if has_zero_sum_sublist(r):\n",
    "    print(\"Yes, there is a sub-list with sum equal to zero.\")\n",
    "else:\n",
    "    print(\"No, there is no sub-list with sum equal to zero.\")"
   ]
  },
  {
   "cell_type": "code",
   "execution_count": null,
   "metadata": {},
   "outputs": [],
   "source": []
  }
 ],
 "metadata": {
  "kernelspec": {
   "display_name": "Python 3",
   "language": "python",
   "name": "python3"
  },
  "language_info": {
   "codemirror_mode": {
    "name": "ipython",
    "version": 3
   },
   "file_extension": ".py",
   "mimetype": "text/x-python",
   "name": "python",
   "nbconvert_exporter": "python",
   "pygments_lexer": "ipython3",
   "version": "3.12.2"
  }
 },
 "nbformat": 4,
 "nbformat_minor": 2
}
